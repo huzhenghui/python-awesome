{
 "cells": [
  {
   "cell_type": "raw",
   "id": "through-certification",
   "metadata": {},
   "source": [
    "<!-- markdownlint-disable MD009 MD012 MD046 -->"
   ]
  },
  {
   "cell_type": "code",
   "execution_count": null,
   "id": "ordered-municipality",
   "metadata": {},
   "outputs": [],
   "source": [
    "import tasks"
   ]
  },
  {
   "cell_type": "code",
   "execution_count": null,
   "id": "angry-crowd",
   "metadata": {},
   "outputs": [],
   "source": [
    "tasks.try_import_matplotlib()"
   ]
  },
  {
   "cell_type": "code",
   "execution_count": null,
   "id": "restricted-diving",
   "metadata": {},
   "outputs": [],
   "source": [
    "import matplotlib.pyplot as plt\n",
    "import numpy as np"
   ]
  },
  {
   "cell_type": "code",
   "execution_count": null,
   "id": "plastic-track",
   "metadata": {},
   "outputs": [],
   "source": [
    "x = np.linspace(-np.pi, np.pi, 50)\n",
    "y = np.sin(x)\n",
    "plt.plot(x,y)"
   ]
  },
  {
   "cell_type": "raw",
   "id": "oriental-driver",
   "metadata": {},
   "source": [
    "<!-- markdownlint-enable MD009 MD012 MD046 -->"
   ]
  }
 ],
 "metadata": {
  "kernelspec": {
   "display_name": "Python 3",
   "language": "python",
   "name": "python3"
  },
  "language_info": {
   "codemirror_mode": {
    "name": "ipython",
    "version": 3
   },
   "file_extension": ".py",
   "mimetype": "text/x-python",
   "name": "python",
   "nbconvert_exporter": "python",
   "pygments_lexer": "ipython3",
   "version": "3.9.1"
  }
 },
 "nbformat": 4,
 "nbformat_minor": 5
}
