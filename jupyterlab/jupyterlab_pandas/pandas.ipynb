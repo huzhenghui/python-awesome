{
 "cells": [
  {
   "cell_type": "raw",
   "id": "ahead-jewelry",
   "metadata": {},
   "source": [
    "<!-- markdownlint-disable MD012 MD033 MD046 -->"
   ]
  },
  {
   "cell_type": "code",
   "execution_count": null,
   "id": "located-result",
   "metadata": {},
   "outputs": [],
   "source": [
    "import tasks"
   ]
  },
  {
   "cell_type": "code",
   "execution_count": null,
   "id": "floppy-server",
   "metadata": {},
   "outputs": [],
   "source": [
    "tasks.try_import_pandas()"
   ]
  },
  {
   "cell_type": "code",
   "execution_count": null,
   "id": "lyric-seller",
   "metadata": {},
   "outputs": [],
   "source": [
    "import pandas as pd"
   ]
  },
  {
   "cell_type": "code",
   "execution_count": null,
   "id": "union-brunswick",
   "metadata": {},
   "outputs": [],
   "source": [
    "url = 'https://kite.com/kite-public/iris.csv'\n",
    "df = pd.read_csv(url)\n",
    "df.head()"
   ]
  },
  {
   "cell_type": "raw",
   "id": "horizontal-corpus",
   "metadata": {},
   "source": [
    "<!-- markdownlint-enable MD012 MD033 MD046 -->"
   ]
  }
 ],
 "metadata": {
  "kernelspec": {
   "display_name": "Python 3",
   "language": "python",
   "name": "python3"
  },
  "language_info": {
   "codemirror_mode": {
    "name": "ipython",
    "version": 3
   },
   "file_extension": ".py",
   "mimetype": "text/x-python",
   "name": "python",
   "nbconvert_exporter": "python",
   "pygments_lexer": "ipython3",
   "version": "3.9.1"
  }
 },
 "nbformat": 4,
 "nbformat_minor": 5
}
